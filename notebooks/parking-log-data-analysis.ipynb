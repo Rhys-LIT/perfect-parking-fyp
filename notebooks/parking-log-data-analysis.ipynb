{
 "cells": [
  {
   "cell_type": "markdown",
   "metadata": {},
   "source": [
    "# Parking Log Data Analysis"
   ]
  },
  {
   "cell_type": "code",
   "execution_count": 1,
   "metadata": {},
   "outputs": [],
   "source": [
    "import sqlite3\n",
    "import pandas\n",
    "from pandas import DataFrame\n",
    "import matplotlib.pyplot as pyplot"
   ]
  },
  {
   "cell_type": "code",
   "execution_count": 2,
   "metadata": {},
   "outputs": [],
   "source": [
    "connection_string :str = \"../db.sqlite3\"\n",
    "#get all parking lot logs and parking lot names from the database\n",
    "sql:str = \"SELECT * FROM PerfectParking_parkinglotlog\"\n",
    "sql:str = \"SELECT * FROM PerfectParking_parkinglotlog A INNER JOIN PerfectParking_parkinglot B ON A.parking_lot_id = B.id\""
   ]
  },
  {
   "cell_type": "code",
   "execution_count": 3,
   "metadata": {},
   "outputs": [],
   "source": [
    "connection = sqlite3.connect(connection_string)\n",
    "dataframe: DataFrame =pandas.read_sql_query(sql, connection)\n",
    "connection.close()"
   ]
  },
  {
   "cell_type": "code",
   "execution_count": 4,
   "metadata": {},
   "outputs": [
    {
     "data": {
      "text/html": [
       "<div>\n",
       "<style scoped>\n",
       "    .dataframe tbody tr th:only-of-type {\n",
       "        vertical-align: middle;\n",
       "    }\n",
       "\n",
       "    .dataframe tbody tr th {\n",
       "        vertical-align: top;\n",
       "    }\n",
       "\n",
       "    .dataframe thead th {\n",
       "        text-align: right;\n",
       "    }\n",
       "</style>\n",
       "<table border=\"1\" class=\"dataframe\">\n",
       "  <thead>\n",
       "    <tr style=\"text-align: right;\">\n",
       "      <th></th>\n",
       "      <th>id</th>\n",
       "      <th>free_parking_spaces</th>\n",
       "      <th>time_stamp</th>\n",
       "      <th>logged_by_monitor_id</th>\n",
       "      <th>parking_lot_id</th>\n",
       "      <th>id</th>\n",
       "      <th>name</th>\n",
       "      <th>address</th>\n",
       "      <th>hours</th>\n",
       "      <th>isPaidParking</th>\n",
       "      <th>latitude</th>\n",
       "      <th>image</th>\n",
       "      <th>parking_spaces</th>\n",
       "      <th>longitude</th>\n",
       "    </tr>\n",
       "  </thead>\n",
       "  <tbody>\n",
       "    <tr>\n",
       "      <th>0</th>\n",
       "      <td>80</td>\n",
       "      <td>3</td>\n",
       "      <td>2023-08-16 19:56:12.977554</td>\n",
       "      <td>1</td>\n",
       "      <td>1</td>\n",
       "      <td>1</td>\n",
       "      <td>Henry Street Left Strip</td>\n",
       "      <td>Henry Street</td>\n",
       "      <td>Paid 09- 17, 2hr limit</td>\n",
       "      <td>1</td>\n",
       "      <td>52.663797</td>\n",
       "      <td>images/parking-lot/henry-street-left-strip-1_M...</td>\n",
       "      <td>3</td>\n",
       "      <td>-8.628752</td>\n",
       "    </tr>\n",
       "    <tr>\n",
       "      <th>1</th>\n",
       "      <td>81</td>\n",
       "      <td>3</td>\n",
       "      <td>2023-08-18 11:35:14.030294</td>\n",
       "      <td>1</td>\n",
       "      <td>1</td>\n",
       "      <td>1</td>\n",
       "      <td>Henry Street Left Strip</td>\n",
       "      <td>Henry Street</td>\n",
       "      <td>Paid 09- 17, 2hr limit</td>\n",
       "      <td>1</td>\n",
       "      <td>52.663797</td>\n",
       "      <td>images/parking-lot/henry-street-left-strip-1_M...</td>\n",
       "      <td>3</td>\n",
       "      <td>-8.628752</td>\n",
       "    </tr>\n",
       "    <tr>\n",
       "      <th>2</th>\n",
       "      <td>82</td>\n",
       "      <td>3</td>\n",
       "      <td>2023-08-18 11:36:33.025428</td>\n",
       "      <td>1</td>\n",
       "      <td>1</td>\n",
       "      <td>1</td>\n",
       "      <td>Henry Street Left Strip</td>\n",
       "      <td>Henry Street</td>\n",
       "      <td>Paid 09- 17, 2hr limit</td>\n",
       "      <td>1</td>\n",
       "      <td>52.663797</td>\n",
       "      <td>images/parking-lot/henry-street-left-strip-1_M...</td>\n",
       "      <td>3</td>\n",
       "      <td>-8.628752</td>\n",
       "    </tr>\n",
       "    <tr>\n",
       "      <th>3</th>\n",
       "      <td>83</td>\n",
       "      <td>8</td>\n",
       "      <td>2023-08-18 11:38:33.317363</td>\n",
       "      <td>2</td>\n",
       "      <td>2</td>\n",
       "      <td>2</td>\n",
       "      <td>O'Connell Street</td>\n",
       "      <td>O'Connell Street, Limerick</td>\n",
       "      <td>09:00-17:00</td>\n",
       "      <td>1</td>\n",
       "      <td>52.662743</td>\n",
       "      <td>images/parking-lot/o-connell.png</td>\n",
       "      <td>12</td>\n",
       "      <td>-8.627916</td>\n",
       "    </tr>\n",
       "    <tr>\n",
       "      <th>4</th>\n",
       "      <td>84</td>\n",
       "      <td>7</td>\n",
       "      <td>2023-08-18 11:40:33.600452</td>\n",
       "      <td>3</td>\n",
       "      <td>5</td>\n",
       "      <td>5</td>\n",
       "      <td>Merchants Quay</td>\n",
       "      <td>Merchants Quay, Limerick</td>\n",
       "      <td>09:00-17:00</td>\n",
       "      <td>1</td>\n",
       "      <td>52.667553</td>\n",
       "      <td>images/parking-lot/merchands-key.png</td>\n",
       "      <td>10</td>\n",
       "      <td>-8.624196</td>\n",
       "    </tr>\n",
       "  </tbody>\n",
       "</table>\n",
       "</div>"
      ],
      "text/plain": [
       "   id  free_parking_spaces                  time_stamp  logged_by_monitor_id  \\\n",
       "0  80                    3  2023-08-16 19:56:12.977554                     1   \n",
       "1  81                    3  2023-08-18 11:35:14.030294                     1   \n",
       "2  82                    3  2023-08-18 11:36:33.025428                     1   \n",
       "3  83                    8  2023-08-18 11:38:33.317363                     2   \n",
       "4  84                    7  2023-08-18 11:40:33.600452                     3   \n",
       "\n",
       "   parking_lot_id  id                     name                     address  \\\n",
       "0               1   1  Henry Street Left Strip                Henry Street   \n",
       "1               1   1  Henry Street Left Strip                Henry Street   \n",
       "2               1   1  Henry Street Left Strip                Henry Street   \n",
       "3               2   2         O'Connell Street  O'Connell Street, Limerick   \n",
       "4               5   5           Merchants Quay    Merchants Quay, Limerick   \n",
       "\n",
       "                    hours  isPaidParking   latitude  \\\n",
       "0  Paid 09- 17, 2hr limit              1  52.663797   \n",
       "1  Paid 09- 17, 2hr limit              1  52.663797   \n",
       "2  Paid 09- 17, 2hr limit              1  52.663797   \n",
       "3             09:00-17:00              1  52.662743   \n",
       "4             09:00-17:00              1  52.667553   \n",
       "\n",
       "                                               image  parking_spaces  \\\n",
       "0  images/parking-lot/henry-street-left-strip-1_M...               3   \n",
       "1  images/parking-lot/henry-street-left-strip-1_M...               3   \n",
       "2  images/parking-lot/henry-street-left-strip-1_M...               3   \n",
       "3                   images/parking-lot/o-connell.png              12   \n",
       "4               images/parking-lot/merchands-key.png              10   \n",
       "\n",
       "   longitude  \n",
       "0  -8.628752  \n",
       "1  -8.628752  \n",
       "2  -8.628752  \n",
       "3  -8.627916  \n",
       "4  -8.624196  "
      ]
     },
     "execution_count": 4,
     "metadata": {},
     "output_type": "execute_result"
    }
   ],
   "source": [
    "dataframe.head()"
   ]
  },
  {
   "cell_type": "code",
   "execution_count": 5,
   "metadata": {},
   "outputs": [],
   "source": [
    "dataframe['time_stamp'] = pandas.to_datetime(dataframe['time_stamp'])\n",
    "dataframe['hour'] = dataframe['time_stamp'].dt.hour\n"
   ]
  },
  {
   "cell_type": "markdown",
   "metadata": {},
   "source": [
    "## Visualize the parking lot logs by hour"
   ]
  },
  {
   "cell_type": "code",
   "execution_count": 6,
   "metadata": {},
   "outputs": [
    {
     "name": "stderr",
     "output_type": "stream",
     "text": [
      "C:\\Users\\realRhys\\AppData\\Local\\Temp\\ipykernel_17592\\70664724.py:1: MatplotlibDeprecationWarning: The seaborn styles shipped by Matplotlib are deprecated since 3.6, as they no longer correspond to the styles shipped by seaborn. However, they will remain available as 'seaborn-v0_8-<style>'. Alternatively, directly use the seaborn API instead.\n",
      "  pyplot.style.use('seaborn-whitegrid') # nice and clean grid\n"
     ]
    },
    {
     "data": {
      "image/png": "[encoded data removed]",
      "text/plain": [
       "<Figure size 640x480 with 1 Axes>"
      ]
     },
     "metadata": {},
     "output_type": "display_data"
    }
   ],
   "source": [
    "pyplot.style.use('seaborn-whitegrid') # nice and clean grid\n",
    "#add labels\n",
    "pyplot.xlabel('Hour')\n",
    "pyplot.ylabel('Activity')\n",
    "pyplot.hist(dataframe['hour'], bins=24);"
   ]
  },
  {
   "cell_type": "markdown",
   "metadata": {},
   "source": [
    "# Visualize the busiest parking lots \n"
   ]
  },
  {
   "cell_type": "code",
   "execution_count": 7,
   "metadata": {},
   "outputs": [
    {
     "data": {
      "image/png": "[encoded data removed]",
      "text/plain": [
       "<Figure size 640x480 with 1 Axes>"
      ]
     },
     "metadata": {},
     "output_type": "display_data"
    }
   ],
   "source": [
    "pyplot.xlabel('Car Park')\n",
    "pyplot.ylabel('Activity')\n",
    "pyplot.hist(dataframe['name'], bins=6);"
   ]
  }
 ],
 "metadata": {
  "kernelspec": {
   "display_name": "base",
   "language": "python",
   "name": "python3"
  },
  "language_info": {
   "codemirror_mode": {
    "name": "ipython",
    "version": 3
   },
   "file_extension": ".py",
   "mimetype": "text/x-python",
   "name": "python",
   "nbconvert_exporter": "python",
   "pygments_lexer": "ipython3",
   "version": "3.10.9"
  },
  "orig_nbformat": 4
 },
 "nbformat": 4,
 "nbformat_minor": 2
}
