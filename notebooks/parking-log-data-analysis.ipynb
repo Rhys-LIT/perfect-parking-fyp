{
 "cells": [
  {
   "cell_type": "markdown",
   "metadata": {},
   "source": [
    "# Parking Log Data Analysis"
   ]
  },
  {
   "cell_type": "code",
   "execution_count": 1,
   "metadata": {},
   "outputs": [],
   "source": [
    "import sqlite3\n",
    "import pandas\n",
    "from pandas import DataFrame\n",
    "import matplotlib.pyplot as pyplot"
   ]
  },
  {
   "cell_type": "code",
   "execution_count": 2,
   "metadata": {},
   "outputs": [],
   "source": [
    "connection_string :str = \"../db.sqlite3\"\n",
    "#get all parking lot logs and parking lot names from the database\n",
    "sql:str = \"SELECT * FROM PerfectParking_parkinglotlog\"\n",
    "sql:str = \"SELECT * FROM PerfectParking_parkinglotlog A INNER JOIN PerfectParking_parkinglot B ON A.parking_lot_id = B.id\""
   ]
  },
  {
   "cell_type": "code",
   "execution_count": 3,
   "metadata": {},
   "outputs": [],
   "source": [
    "connection = sqlite3.connect(connection_string)\n",
    "dataframe: DataFrame =pandas.read_sql_query(sql, connection)\n",
    "connection.close()"
   ]
  },
  {
   "cell_type": "code",
   "execution_count": 4,
   "metadata": {},
   "outputs": [
    {
     "data": {
      "text/html": [
       "<div>\n",
       "<style scoped>\n",
       "    .dataframe tbody tr th:only-of-type {\n",
       "        vertical-align: middle;\n",
       "    }\n",
       "\n",
       "    .dataframe tbody tr th {\n",
       "        vertical-align: top;\n",
       "    }\n",
       "\n",
       "    .dataframe thead th {\n",
       "        text-align: right;\n",
       "    }\n",
       "</style>\n",
       "<table border=\"1\" class=\"dataframe\">\n",
       "  <thead>\n",
       "    <tr style=\"text-align: right;\">\n",
       "      <th></th>\n",
       "      <th>id</th>\n",
       "      <th>free_parking_spaces</th>\n",
       "      <th>time_stamp</th>\n",
       "      <th>logged_by_monitor_id</th>\n",
       "      <th>parking_lot_id</th>\n",
       "      <th>id</th>\n",
       "      <th>name</th>\n",
       "      <th>address</th>\n",
       "      <th>hours</th>\n",
       "      <th>isPaidParking</th>\n",
       "      <th>latitude</th>\n",
       "      <th>image</th>\n",
       "      <th>parking_spaces</th>\n",
       "      <th>longitude</th>\n",
       "    </tr>\n",
       "  </thead>\n",
       "  <tbody>\n",
       "    <tr>\n",
       "      <th>0</th>\n",
       "      <td>1</td>\n",
       "      <td>3</td>\n",
       "      <td>2023-08-16 19:53:15.525178</td>\n",
       "      <td>1</td>\n",
       "      <td>1</td>\n",
       "      <td>1</td>\n",
       "      <td>Henry Street Left Strip</td>\n",
       "      <td>Henry Street</td>\n",
       "      <td>Paid 09- 17, 2hr limit</td>\n",
       "      <td>1</td>\n",
       "      <td>52.663797</td>\n",
       "      <td>images/parking-lot/henry-street-left-strip-1_M...</td>\n",
       "      <td>3</td>\n",
       "      <td>-8.628752</td>\n",
       "    </tr>\n",
       "    <tr>\n",
       "      <th>1</th>\n",
       "      <td>2</td>\n",
       "      <td>3</td>\n",
       "      <td>2023-08-16 19:53:19.249673</td>\n",
       "      <td>1</td>\n",
       "      <td>1</td>\n",
       "      <td>1</td>\n",
       "      <td>Henry Street Left Strip</td>\n",
       "      <td>Henry Street</td>\n",
       "      <td>Paid 09- 17, 2hr limit</td>\n",
       "      <td>1</td>\n",
       "      <td>52.663797</td>\n",
       "      <td>images/parking-lot/henry-street-left-strip-1_M...</td>\n",
       "      <td>3</td>\n",
       "      <td>-8.628752</td>\n",
       "    </tr>\n",
       "    <tr>\n",
       "      <th>2</th>\n",
       "      <td>3</td>\n",
       "      <td>3</td>\n",
       "      <td>2023-08-16 19:53:19.664685</td>\n",
       "      <td>1</td>\n",
       "      <td>1</td>\n",
       "      <td>1</td>\n",
       "      <td>Henry Street Left Strip</td>\n",
       "      <td>Henry Street</td>\n",
       "      <td>Paid 09- 17, 2hr limit</td>\n",
       "      <td>1</td>\n",
       "      <td>52.663797</td>\n",
       "      <td>images/parking-lot/henry-street-left-strip-1_M...</td>\n",
       "      <td>3</td>\n",
       "      <td>-8.628752</td>\n",
       "    </tr>\n",
       "    <tr>\n",
       "      <th>3</th>\n",
       "      <td>4</td>\n",
       "      <td>3</td>\n",
       "      <td>2023-08-16 19:53:20.025721</td>\n",
       "      <td>1</td>\n",
       "      <td>1</td>\n",
       "      <td>1</td>\n",
       "      <td>Henry Street Left Strip</td>\n",
       "      <td>Henry Street</td>\n",
       "      <td>Paid 09- 17, 2hr limit</td>\n",
       "      <td>1</td>\n",
       "      <td>52.663797</td>\n",
       "      <td>images/parking-lot/henry-street-left-strip-1_M...</td>\n",
       "      <td>3</td>\n",
       "      <td>-8.628752</td>\n",
       "    </tr>\n",
       "    <tr>\n",
       "      <th>4</th>\n",
       "      <td>5</td>\n",
       "      <td>3</td>\n",
       "      <td>2023-08-16 19:53:20.466446</td>\n",
       "      <td>1</td>\n",
       "      <td>1</td>\n",
       "      <td>1</td>\n",
       "      <td>Henry Street Left Strip</td>\n",
       "      <td>Henry Street</td>\n",
       "      <td>Paid 09- 17, 2hr limit</td>\n",
       "      <td>1</td>\n",
       "      <td>52.663797</td>\n",
       "      <td>images/parking-lot/henry-street-left-strip-1_M...</td>\n",
       "      <td>3</td>\n",
       "      <td>-8.628752</td>\n",
       "    </tr>\n",
       "  </tbody>\n",
       "</table>\n",
       "</div>"
      ],
      "text/plain": [
       "   id  free_parking_spaces                  time_stamp  logged_by_monitor_id  \\\n",
       "0   1                    3  2023-08-16 19:53:15.525178                     1   \n",
       "1   2                    3  2023-08-16 19:53:19.249673                     1   \n",
       "2   3                    3  2023-08-16 19:53:19.664685                     1   \n",
       "3   4                    3  2023-08-16 19:53:20.025721                     1   \n",
       "4   5                    3  2023-08-16 19:53:20.466446                     1   \n",
       "\n",
       "   parking_lot_id  id                     name       address  \\\n",
       "0               1   1  Henry Street Left Strip  Henry Street   \n",
       "1               1   1  Henry Street Left Strip  Henry Street   \n",
       "2               1   1  Henry Street Left Strip  Henry Street   \n",
       "3               1   1  Henry Street Left Strip  Henry Street   \n",
       "4               1   1  Henry Street Left Strip  Henry Street   \n",
       "\n",
       "                    hours  isPaidParking   latitude  \\\n",
       "0  Paid 09- 17, 2hr limit              1  52.663797   \n",
       "1  Paid 09- 17, 2hr limit              1  52.663797   \n",
       "2  Paid 09- 17, 2hr limit              1  52.663797   \n",
       "3  Paid 09- 17, 2hr limit              1  52.663797   \n",
       "4  Paid 09- 17, 2hr limit              1  52.663797   \n",
       "\n",
       "                                               image  parking_spaces  \\\n",
       "0  images/parking-lot/henry-street-left-strip-1_M...               3   \n",
       "1  images/parking-lot/henry-street-left-strip-1_M...               3   \n",
       "2  images/parking-lot/henry-street-left-strip-1_M...               3   \n",
       "3  images/parking-lot/henry-street-left-strip-1_M...               3   \n",
       "4  images/parking-lot/henry-street-left-strip-1_M...               3   \n",
       "\n",
       "   longitude  \n",
       "0  -8.628752  \n",
       "1  -8.628752  \n",
       "2  -8.628752  \n",
       "3  -8.628752  \n",
       "4  -8.628752  "
      ]
     },
     "execution_count": 4,
     "metadata": {},
     "output_type": "execute_result"
    }
   ],
   "source": [
    "dataframe.head()"
   ]
  },
  {
   "cell_type": "code",
   "execution_count": 5,
   "metadata": {},
   "outputs": [],
   "source": [
    "dataframe['time_stamp'] = pandas.to_datetime(dataframe['time_stamp'])\n",
    "dataframe['hour'] = dataframe['time_stamp'].dt.hour\n"
   ]
  },
  {
   "cell_type": "markdown",
   "metadata": {},
   "source": [
    "## Visualize the parking lot logs by hour"
   ]
  },
  {
   "cell_type": "code",
   "execution_count": 6,
   "metadata": {},
   "outputs": [
    {
     "data": {
      "text/plain": [
       "(array([12., 10., 12., 12.,  9., 11., 13., 16., 12., 10.,  7., 19., 18.,\n",
       "        20., 13.,  9., 10., 11.,  9., 91., 14., 11., 12., 10.]),\n",
       " array([ 0.        ,  0.95833333,  1.91666667,  2.875     ,  3.83333333,\n",
       "         4.79166667,  5.75      ,  6.70833333,  7.66666667,  8.625     ,\n",
       "         9.58333333, 10.54166667, 11.5       , 12.45833333, 13.41666667,\n",
       "        14.375     , 15.33333333, 16.29166667, 17.25      , 18.20833333,\n",
       "        19.16666667, 20.125     , 21.08333333, 22.04166667, 23.        ]),\n",
       " <BarContainer object of 24 artists>)"
      ]
     },
     "execution_count": 6,
     "metadata": {},
     "output_type": "execute_result"
    },
    {
     "data": {
      "image/png": "[encoded data removed]",
      "text/plain": [
       "<Figure size 640x480 with 1 Axes>"
      ]
     },
     "metadata": {},
     "output_type": "display_data"
    }
   ],
   "source": [
    "pyplot.style.use('seaborn-whitegrid') # nice and clean grid\n",
    "pyplot.hist(dataframe['hour'], bins=24)"
   ]
  },
  {
   "cell_type": "markdown",
   "metadata": {},
   "source": [
    "# Visualize the busiest parking lots \n"
   ]
  },
  {
   "cell_type": "code",
   "execution_count": 7,
   "metadata": {},
   "outputs": [
    {
     "data": {
      "text/plain": [
       "(array([154.,   0.,  73.,   0.,  72.,  72.]),\n",
       " array([0. , 0.5, 1. , 1.5, 2. , 2.5, 3. ]),\n",
       " <BarContainer object of 6 artists>)"
      ]
     },
     "execution_count": 7,
     "metadata": {},
     "output_type": "execute_result"
    },
    {
     "data": {
      "image/png": "[encoded data removed]",
      "text/plain": [
       "<Figure size 640x480 with 1 Axes>"
      ]
     },
     "metadata": {},
     "output_type": "display_data"
    }
   ],
   "source": [
    "pyplot.hist(dataframe['name'], bins=6)"
   ]
  }
 ],
 "metadata": {
  "kernelspec": {
   "display_name": "base",
   "language": "python",
   "name": "python3"
  },
  "language_info": {
   "codemirror_mode": {
    "name": "ipython",
    "version": 3
   },
   "file_extension": ".py",
   "mimetype": "text/x-python",
   "name": "python",
   "nbconvert_exporter": "python",
   "pygments_lexer": "ipython3",
   "version": "3.10.9"
  },
  "orig_nbformat": 4
 },
 "nbformat": 4,
 "nbformat_minor": 2
}
