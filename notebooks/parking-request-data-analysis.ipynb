{
 "cells": [
  {
   "cell_type": "code",
   "execution_count": 9,
   "metadata": {},
   "outputs": [],
   "source": [
    "import sqlite3\n",
    "import pandas\n",
    "from pandas import DataFrame\n",
    "import matplotlib.pyplot as pyplot"
   ]
  },
  {
   "cell_type": "code",
   "execution_count": 10,
   "metadata": {},
   "outputs": [],
   "source": [
    "database_path:str = \"../db.sqlite3\"\n",
    "sql:str = \"SELECT * FROM PerfectParking_parkingrequestlog\""
   ]
  },
  {
   "cell_type": "code",
   "execution_count": 11,
   "metadata": {},
   "outputs": [],
   "source": [
    "connection = sqlite3.connect(database_path)\n",
    "dataframe:DataFrame = pandas.read_sql_query(sql, connection)\n",
    "connection.close()"
   ]
  },
  {
   "cell_type": "code",
   "execution_count": 12,
   "metadata": {},
   "outputs": [
    {
     "data": {
      "text/html": [
       "<div>\n",
       "<style scoped>\n",
       "    .dataframe tbody tr th:only-of-type {\n",
       "        vertical-align: middle;\n",
       "    }\n",
       "\n",
       "    .dataframe tbody tr th {\n",
       "        vertical-align: top;\n",
       "    }\n",
       "\n",
       "    .dataframe thead th {\n",
       "        text-align: right;\n",
       "    }\n",
       "</style>\n",
       "<table border=\"1\" class=\"dataframe\">\n",
       "  <thead>\n",
       "    <tr style=\"text-align: right;\">\n",
       "      <th></th>\n",
       "      <th>id</th>\n",
       "      <th>area_of_interest_latitude</th>\n",
       "      <th>area_of_interest_longitude</th>\n",
       "      <th>time_stamp</th>\n",
       "      <th>user_ip_address</th>\n",
       "      <th>user_id</th>\n",
       "    </tr>\n",
       "  </thead>\n",
       "  <tbody>\n",
       "    <tr>\n",
       "      <th>0</th>\n",
       "      <td>1</td>\n",
       "      <td>52.0463</td>\n",
       "      <td>-9.515</td>\n",
       "      <td>2023-08-16 18:44:27.790256</td>\n",
       "      <td>127.0.0.1</td>\n",
       "      <td>NaN</td>\n",
       "    </tr>\n",
       "    <tr>\n",
       "      <th>1</th>\n",
       "      <td>2</td>\n",
       "      <td>52.0463</td>\n",
       "      <td>-9.515</td>\n",
       "      <td>2023-08-16 18:46:22.553170</td>\n",
       "      <td>127.0.0.1</td>\n",
       "      <td>14.0</td>\n",
       "    </tr>\n",
       "    <tr>\n",
       "      <th>2</th>\n",
       "      <td>3</td>\n",
       "      <td>52.0463</td>\n",
       "      <td>-9.515</td>\n",
       "      <td>2023-08-16 18:46:51.781508</td>\n",
       "      <td>127.0.0.1</td>\n",
       "      <td>14.0</td>\n",
       "    </tr>\n",
       "    <tr>\n",
       "      <th>3</th>\n",
       "      <td>4</td>\n",
       "      <td>52.0463</td>\n",
       "      <td>-9.515</td>\n",
       "      <td>2023-08-16 18:46:55.306892</td>\n",
       "      <td>127.0.0.1</td>\n",
       "      <td>14.0</td>\n",
       "    </tr>\n",
       "    <tr>\n",
       "      <th>4</th>\n",
       "      <td>5</td>\n",
       "      <td>52.0463</td>\n",
       "      <td>-9.515</td>\n",
       "      <td>2023-08-16 18:47:44.234370</td>\n",
       "      <td>127.0.0.1</td>\n",
       "      <td>14.0</td>\n",
       "    </tr>\n",
       "  </tbody>\n",
       "</table>\n",
       "</div>"
      ],
      "text/plain": [
       "   id  area_of_interest_latitude  area_of_interest_longitude  \\\n",
       "0   1                    52.0463                      -9.515   \n",
       "1   2                    52.0463                      -9.515   \n",
       "2   3                    52.0463                      -9.515   \n",
       "3   4                    52.0463                      -9.515   \n",
       "4   5                    52.0463                      -9.515   \n",
       "\n",
       "                   time_stamp user_ip_address  user_id  \n",
       "0  2023-08-16 18:44:27.790256       127.0.0.1      NaN  \n",
       "1  2023-08-16 18:46:22.553170       127.0.0.1     14.0  \n",
       "2  2023-08-16 18:46:51.781508       127.0.0.1     14.0  \n",
       "3  2023-08-16 18:46:55.306892       127.0.0.1     14.0  \n",
       "4  2023-08-16 18:47:44.234370       127.0.0.1     14.0  "
      ]
     },
     "execution_count": 12,
     "metadata": {},
     "output_type": "execute_result"
    }
   ],
   "source": [
    "dataframe.head()"
   ]
  },
  {
   "cell_type": "code",
   "execution_count": 13,
   "metadata": {},
   "outputs": [],
   "source": [
    "dataframe['time_stamp'] = pandas.to_datetime(dataframe['time_stamp'])"
   ]
  },
  {
   "cell_type": "code",
   "execution_count": 14,
   "metadata": {},
   "outputs": [],
   "source": [
    "#create a column with the hour of the day\n",
    "dataframe['hour'] = dataframe['time_stamp'].dt.hour\n"
   ]
  },
  {
   "cell_type": "code",
   "execution_count": 15,
   "metadata": {},
   "outputs": [
    {
     "name": "stdout",
     "output_type": "stream",
     "text": [
      "<class 'pandas.core.frame.DataFrame'>\n",
      "RangeIndex: 7 entries, 0 to 6\n",
      "Data columns (total 7 columns):\n",
      " #   Column                      Non-Null Count  Dtype         \n",
      "---  ------                      --------------  -----         \n",
      " 0   id                          7 non-null      int64         \n",
      " 1   area_of_interest_latitude   7 non-null      float64       \n",
      " 2   area_of_interest_longitude  7 non-null      float64       \n",
      " 3   time_stamp                  7 non-null      datetime64[ns]\n",
      " 4   user_ip_address             7 non-null      object        \n",
      " 5   user_id                     6 non-null      float64       \n",
      " 6   hour                        7 non-null      int64         \n",
      "dtypes: datetime64[ns](1), float64(3), int64(2), object(1)\n",
      "memory usage: 520.0+ bytes\n"
     ]
    }
   ],
   "source": [
    "\n",
    "#get dataframe info/column types\n",
    "dataframe.info()"
   ]
  },
  {
   "cell_type": "markdown",
   "metadata": {},
   "source": [
    "## Visualize the parking requests"
   ]
  },
  {
   "cell_type": "code",
   "execution_count": 16,
   "metadata": {},
   "outputs": [
    {
     "data": {
      "text/plain": [
       "(array([1., 0., 0., 0., 0., 0., 0., 0., 0., 0., 0., 0., 0., 0., 0., 0., 0.,\n",
       "        0., 0., 1., 0., 0., 0., 5.]),\n",
       " array([13.        , 13.20833333, 13.41666667, 13.625     , 13.83333333,\n",
       "        14.04166667, 14.25      , 14.45833333, 14.66666667, 14.875     ,\n",
       "        15.08333333, 15.29166667, 15.5       , 15.70833333, 15.91666667,\n",
       "        16.125     , 16.33333333, 16.54166667, 16.75      , 16.95833333,\n",
       "        17.16666667, 17.375     , 17.58333333, 17.79166667, 18.        ]),\n",
       " <BarContainer object of 24 artists>)"
      ]
     },
     "execution_count": 16,
     "metadata": {},
     "output_type": "execute_result"
    },
    {
     "data": {
      "image/png": "[encoded data removed]",
      "text/plain": [
       "<Figure size 640x480 with 1 Axes>"
      ]
     },
     "metadata": {},
     "output_type": "display_data"
    }
   ],
   "source": [
    "pyplot.hist(dataframe['hour'], bins=24)"
   ]
  }
 ],
 "metadata": {
  "kernelspec": {
   "display_name": "base",
   "language": "python",
   "name": "python3"
  },
  "language_info": {
   "codemirror_mode": {
    "name": "ipython",
    "version": 3
   },
   "file_extension": ".py",
   "mimetype": "text/x-python",
   "name": "python",
   "nbconvert_exporter": "python",
   "pygments_lexer": "ipython3",
   "version": "3.10.9"
  },
  "orig_nbformat": 4
 },
 "nbformat": 4,
 "nbformat_minor": 2
}
