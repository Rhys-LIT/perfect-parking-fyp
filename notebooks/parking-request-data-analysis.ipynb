{
 "cells": [
  {
   "cell_type": "code",
   "execution_count": 10,
   "metadata": {},
   "outputs": [],
   "source": [
    "import sqlite3\n",
    "import pandas\n",
    "from pandas import DataFrame\n",
    "import matplotlib.pyplot as pyplot"
   ]
  },
  {
   "cell_type": "code",
   "execution_count": 11,
   "metadata": {},
   "outputs": [],
   "source": [
    "database_path:str = \"../db.sqlite3\"\n",
    "sql:str = \"SELECT * FROM PerfectParking_parkingrequestlog\""
   ]
  },
  {
   "cell_type": "code",
   "execution_count": 12,
   "metadata": {},
   "outputs": [],
   "source": [
    "connection = sqlite3.connect(database_path)\n",
    "dataframe:DataFrame = pandas.read_sql_query(sql, connection)\n",
    "connection.close()"
   ]
  },
  {
   "cell_type": "code",
   "execution_count": 13,
   "metadata": {},
   "outputs": [
    {
     "data": {
      "text/html": [
       "<div>\n",
       "<style scoped>\n",
       "    .dataframe tbody tr th:only-of-type {\n",
       "        vertical-align: middle;\n",
       "    }\n",
       "\n",
       "    .dataframe tbody tr th {\n",
       "        vertical-align: top;\n",
       "    }\n",
       "\n",
       "    .dataframe thead th {\n",
       "        text-align: right;\n",
       "    }\n",
       "</style>\n",
       "<table border=\"1\" class=\"dataframe\">\n",
       "  <thead>\n",
       "    <tr style=\"text-align: right;\">\n",
       "      <th></th>\n",
       "      <th>id</th>\n",
       "      <th>area_of_interest_latitude</th>\n",
       "      <th>area_of_interest_longitude</th>\n",
       "      <th>time_stamp</th>\n",
       "      <th>user_ip_address</th>\n",
       "      <th>user_id</th>\n",
       "    </tr>\n",
       "  </thead>\n",
       "  <tbody>\n",
       "    <tr>\n",
       "      <th>0</th>\n",
       "      <td>1</td>\n",
       "      <td>52.0463</td>\n",
       "      <td>-9.515</td>\n",
       "      <td>2023-08-16 18:44:27.790256</td>\n",
       "      <td>127.0.0.1</td>\n",
       "      <td>NaN</td>\n",
       "    </tr>\n",
       "    <tr>\n",
       "      <th>1</th>\n",
       "      <td>2</td>\n",
       "      <td>52.0463</td>\n",
       "      <td>-9.515</td>\n",
       "      <td>2023-08-16 18:46:22.553170</td>\n",
       "      <td>127.0.0.1</td>\n",
       "      <td>14.0</td>\n",
       "    </tr>\n",
       "    <tr>\n",
       "      <th>2</th>\n",
       "      <td>3</td>\n",
       "      <td>52.0463</td>\n",
       "      <td>-9.515</td>\n",
       "      <td>2023-08-16 18:46:51.781508</td>\n",
       "      <td>127.0.0.1</td>\n",
       "      <td>14.0</td>\n",
       "    </tr>\n",
       "    <tr>\n",
       "      <th>3</th>\n",
       "      <td>4</td>\n",
       "      <td>52.0463</td>\n",
       "      <td>-9.515</td>\n",
       "      <td>2023-08-16 18:46:55.306892</td>\n",
       "      <td>127.0.0.1</td>\n",
       "      <td>14.0</td>\n",
       "    </tr>\n",
       "    <tr>\n",
       "      <th>4</th>\n",
       "      <td>5</td>\n",
       "      <td>52.0463</td>\n",
       "      <td>-9.515</td>\n",
       "      <td>2023-08-16 18:47:44.234370</td>\n",
       "      <td>127.0.0.1</td>\n",
       "      <td>14.0</td>\n",
       "    </tr>\n",
       "  </tbody>\n",
       "</table>\n",
       "</div>"
      ],
      "text/plain": [
       "   id  area_of_interest_latitude  area_of_interest_longitude  \\\n",
       "0   1                    52.0463                      -9.515   \n",
       "1   2                    52.0463                      -9.515   \n",
       "2   3                    52.0463                      -9.515   \n",
       "3   4                    52.0463                      -9.515   \n",
       "4   5                    52.0463                      -9.515   \n",
       "\n",
       "                   time_stamp user_ip_address  user_id  \n",
       "0  2023-08-16 18:44:27.790256       127.0.0.1      NaN  \n",
       "1  2023-08-16 18:46:22.553170       127.0.0.1     14.0  \n",
       "2  2023-08-16 18:46:51.781508       127.0.0.1     14.0  \n",
       "3  2023-08-16 18:46:55.306892       127.0.0.1     14.0  \n",
       "4  2023-08-16 18:47:44.234370       127.0.0.1     14.0  "
      ]
     },
     "execution_count": 13,
     "metadata": {},
     "output_type": "execute_result"
    }
   ],
   "source": [
    "dataframe.head()"
   ]
  },
  {
   "cell_type": "code",
   "execution_count": 14,
   "metadata": {},
   "outputs": [],
   "source": [
    "dataframe['time_stamp'] = pandas.to_datetime(dataframe['time_stamp'])"
   ]
  },
  {
   "cell_type": "code",
   "execution_count": 15,
   "metadata": {},
   "outputs": [],
   "source": [
    "#create a column with the hour of the day\n",
    "dataframe['hour'] = dataframe['time_stamp'].dt.hour"
   ]
  },
  {
   "cell_type": "code",
   "execution_count": 16,
   "metadata": {},
   "outputs": [
    {
     "name": "stdout",
     "output_type": "stream",
     "text": [
      "<class 'pandas.core.frame.DataFrame'>\n",
      "RangeIndex: 12 entries, 0 to 11\n",
      "Data columns (total 7 columns):\n",
      " #   Column                      Non-Null Count  Dtype         \n",
      "---  ------                      --------------  -----         \n",
      " 0   id                          12 non-null     int64         \n",
      " 1   area_of_interest_latitude   12 non-null     float64       \n",
      " 2   area_of_interest_longitude  12 non-null     float64       \n",
      " 3   time_stamp                  12 non-null     datetime64[ns]\n",
      " 4   user_ip_address             12 non-null     object        \n",
      " 5   user_id                     11 non-null     float64       \n",
      " 6   hour                        12 non-null     int64         \n",
      "dtypes: datetime64[ns](1), float64(3), int64(2), object(1)\n",
      "memory usage: 800.0+ bytes\n"
     ]
    }
   ],
   "source": [
    "\n",
    "#get dataframe info/column types\n",
    "dataframe.info()"
   ]
  },
  {
   "cell_type": "markdown",
   "metadata": {},
   "source": [
    "## Visualize the parking requests"
   ]
  },
  {
   "cell_type": "code",
   "execution_count": 17,
   "metadata": {},
   "outputs": [
    {
     "data": {
      "image/png": "[encoded data removed]",
      "text/plain": [
       "<Figure size 640x480 with 1 Axes>"
      ]
     },
     "metadata": {},
     "output_type": "display_data"
    }
   ],
   "source": [
    "pyplot.xlabel('Hour of the day')\n",
    "pyplot.ylabel('Number of user requests')\n",
    "pyplot.hist(dataframe['hour'], bins=24);"
   ]
  }
 ],
 "metadata": {
  "kernelspec": {
   "display_name": "base",
   "language": "python",
   "name": "python3"
  },
  "language_info": {
   "codemirror_mode": {
    "name": "ipython",
    "version": 3
   },
   "file_extension": ".py",
   "mimetype": "text/x-python",
   "name": "python",
   "nbconvert_exporter": "python",
   "pygments_lexer": "ipython3",
   "version": "3.10.9"
  },
  "orig_nbformat": 4
 },
 "nbformat": 4,
 "nbformat_minor": 2
}
