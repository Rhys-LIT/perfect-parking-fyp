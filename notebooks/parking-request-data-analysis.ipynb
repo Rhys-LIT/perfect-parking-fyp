{
 "cells": [
  {
   "cell_type": "code",
   "execution_count": 1,
   "metadata": {},
   "outputs": [],
   "source": [
    "import sqlite3\n",
    "import pandas\n",
    "from pandas import DataFrame\n",
    "import matplotlib.pyplot as pyplot"
   ]
  },
  {
   "cell_type": "code",
   "execution_count": 2,
   "metadata": {},
   "outputs": [],
   "source": [
    "database_path:str = \"../db.sqlite3\"\n",
    "sql:str = \"SELECT * FROM PerfectParking_parkingrequestlog\""
   ]
  },
  {
   "cell_type": "code",
   "execution_count": 3,
   "metadata": {},
   "outputs": [],
   "source": [
    "connection = sqlite3.connect(database_path)\n",
    "dataframe:DataFrame = pandas.read_sql_query(sql, connection)\n",
    "connection.close()"
   ]
  },
  {
   "cell_type": "code",
   "execution_count": 4,
   "metadata": {},
   "outputs": [
    {
     "data": {
      "text/html": [
       "<div>\n",
       "<style scoped>\n",
       "    .dataframe tbody tr th:only-of-type {\n",
       "        vertical-align: middle;\n",
       "    }\n",
       "\n",
       "    .dataframe tbody tr th {\n",
       "        vertical-align: top;\n",
       "    }\n",
       "\n",
       "    .dataframe thead th {\n",
       "        text-align: right;\n",
       "    }\n",
       "</style>\n",
       "<table border=\"1\" class=\"dataframe\">\n",
       "  <thead>\n",
       "    <tr style=\"text-align: right;\">\n",
       "      <th></th>\n",
       "      <th>id</th>\n",
       "      <th>area_of_interest_latitude</th>\n",
       "      <th>area_of_interest_longitude</th>\n",
       "      <th>time_stamp</th>\n",
       "      <th>user_ip_address</th>\n",
       "      <th>user_id</th>\n",
       "    </tr>\n",
       "  </thead>\n",
       "  <tbody>\n",
       "    <tr>\n",
       "      <th>0</th>\n",
       "      <td>1</td>\n",
       "      <td>52.0463</td>\n",
       "      <td>-9.515</td>\n",
       "      <td>2023-08-16 18:44:27.790256</td>\n",
       "      <td>127.0.0.1</td>\n",
       "      <td>NaN</td>\n",
       "    </tr>\n",
       "    <tr>\n",
       "      <th>1</th>\n",
       "      <td>2</td>\n",
       "      <td>52.0463</td>\n",
       "      <td>-9.515</td>\n",
       "      <td>2023-08-16 18:46:22.553170</td>\n",
       "      <td>127.0.0.1</td>\n",
       "      <td>14.0</td>\n",
       "    </tr>\n",
       "    <tr>\n",
       "      <th>2</th>\n",
       "      <td>3</td>\n",
       "      <td>52.0463</td>\n",
       "      <td>-9.515</td>\n",
       "      <td>2023-08-16 18:46:51.781508</td>\n",
       "      <td>127.0.0.1</td>\n",
       "      <td>14.0</td>\n",
       "    </tr>\n",
       "    <tr>\n",
       "      <th>3</th>\n",
       "      <td>4</td>\n",
       "      <td>52.0463</td>\n",
       "      <td>-9.515</td>\n",
       "      <td>2023-08-16 18:46:55.306892</td>\n",
       "      <td>127.0.0.1</td>\n",
       "      <td>14.0</td>\n",
       "    </tr>\n",
       "    <tr>\n",
       "      <th>4</th>\n",
       "      <td>5</td>\n",
       "      <td>52.0463</td>\n",
       "      <td>-9.515</td>\n",
       "      <td>2023-08-16 18:47:44.234370</td>\n",
       "      <td>127.0.0.1</td>\n",
       "      <td>14.0</td>\n",
       "    </tr>\n",
       "  </tbody>\n",
       "</table>\n",
       "</div>"
      ],
      "text/plain": [
       "   id  area_of_interest_latitude  area_of_interest_longitude  \\\n",
       "0   1                    52.0463                      -9.515   \n",
       "1   2                    52.0463                      -9.515   \n",
       "2   3                    52.0463                      -9.515   \n",
       "3   4                    52.0463                      -9.515   \n",
       "4   5                    52.0463                      -9.515   \n",
       "\n",
       "                   time_stamp user_ip_address  user_id  \n",
       "0  2023-08-16 18:44:27.790256       127.0.0.1      NaN  \n",
       "1  2023-08-16 18:46:22.553170       127.0.0.1     14.0  \n",
       "2  2023-08-16 18:46:51.781508       127.0.0.1     14.0  \n",
       "3  2023-08-16 18:46:55.306892       127.0.0.1     14.0  \n",
       "4  2023-08-16 18:47:44.234370       127.0.0.1     14.0  "
      ]
     },
     "execution_count": 4,
     "metadata": {},
     "output_type": "execute_result"
    }
   ],
   "source": [
    "dataframe.head()"
   ]
  },
  {
   "cell_type": "code",
   "execution_count": 5,
   "metadata": {},
   "outputs": [],
   "source": [
    "dataframe['time_stamp'] = pandas.to_datetime(dataframe['time_stamp'])"
   ]
  },
  {
   "cell_type": "code",
   "execution_count": 6,
   "metadata": {},
   "outputs": [],
   "source": [
    "#create a column with the hour of the day\n",
    "dataframe['hour'] = dataframe['time_stamp'].dt.hour\n"
   ]
  },
  {
   "cell_type": "code",
   "execution_count": 7,
   "metadata": {},
   "outputs": [
    {
     "name": "stdout",
     "output_type": "stream",
     "text": [
      "<class 'pandas.core.frame.DataFrame'>\n",
      "RangeIndex: 5 entries, 0 to 4\n",
      "Data columns (total 7 columns):\n",
      " #   Column                      Non-Null Count  Dtype         \n",
      "---  ------                      --------------  -----         \n",
      " 0   id                          5 non-null      int64         \n",
      " 1   area_of_interest_latitude   5 non-null      float64       \n",
      " 2   area_of_interest_longitude  5 non-null      float64       \n",
      " 3   time_stamp                  5 non-null      datetime64[ns]\n",
      " 4   user_ip_address             5 non-null      object        \n",
      " 5   user_id                     4 non-null      float64       \n",
      " 6   hour                        5 non-null      int64         \n",
      "dtypes: datetime64[ns](1), float64(3), int64(2), object(1)\n",
      "memory usage: 408.0+ bytes\n"
     ]
    }
   ],
   "source": [
    "\n",
    "#get dataframe info/column types\n",
    "dataframe.info()"
   ]
  },
  {
   "cell_type": "markdown",
   "metadata": {},
   "source": [
    "## Visualize the parking requests"
   ]
  },
  {
   "cell_type": "code",
   "execution_count": 8,
   "metadata": {},
   "outputs": [
    {
     "data": {
      "text/plain": [
       "(array([0., 0., 0., 0., 0., 0., 0., 0., 0., 0., 0., 0., 5., 0., 0., 0., 0.,\n",
       "        0., 0., 0., 0., 0., 0., 0.]),\n",
       " array([17.5       , 17.54166667, 17.58333333, 17.625     , 17.66666667,\n",
       "        17.70833333, 17.75      , 17.79166667, 17.83333333, 17.875     ,\n",
       "        17.91666667, 17.95833333, 18.        , 18.04166667, 18.08333333,\n",
       "        18.125     , 18.16666667, 18.20833333, 18.25      , 18.29166667,\n",
       "        18.33333333, 18.375     , 18.41666667, 18.45833333, 18.5       ]),\n",
       " <BarContainer object of 24 artists>)"
      ]
     },
     "execution_count": 8,
     "metadata": {},
     "output_type": "execute_result"
    },
    {
     "data": {
      "image/png": "[encoded data removed]",
      "text/plain": [
       "<Figure size 640x480 with 1 Axes>"
      ]
     },
     "metadata": {},
     "output_type": "display_data"
    }
   ],
   "source": [
    "pyplot.hist(dataframe['hour'], bins=24)"
   ]
  }
 ],
 "metadata": {
  "kernelspec": {
   "display_name": "base",
   "language": "python",
   "name": "python3"
  },
  "language_info": {
   "codemirror_mode": {
    "name": "ipython",
    "version": 3
   },
   "file_extension": ".py",
   "mimetype": "text/x-python",
   "name": "python",
   "nbconvert_exporter": "python",
   "pygments_lexer": "ipython3",
   "version": "3.10.9"
  },
  "orig_nbformat": 4
 },
 "nbformat": 4,
 "nbformat_minor": 2
}
